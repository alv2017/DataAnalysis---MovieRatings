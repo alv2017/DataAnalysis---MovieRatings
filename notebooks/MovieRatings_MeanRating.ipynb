{
 "cells": [
  {
   "cell_type": "markdown",
   "metadata": {},
   "source": [
    "# Movie Rankings: Computing a Mean Rating\n",
    "\n",
    "1) First, we are going to calculate the average rating for each movie in the dataset. We are also going to compute the average movie rating by gender;\n",
    "\n",
    "2) We will display top three movies by average rating: for all users, for male users only, and for female users only.\n",
    "\n",
    "3) We will find top three movies with the greatest difference in average rating comparing the results of male and female users."
   ]
  },
  {
   "cell_type": "code",
   "execution_count": 146,
   "metadata": {},
   "outputs": [],
   "source": [
    "# Settings \n",
    "import os\n",
    "import numpy as np\n",
    "import pandas as pd\n",
    "import sqlite3\n",
    "from sqlite3 import Error as SQLiteError\n",
    "\n",
    "# Pandas\n",
    "pd.set_option('precision', 4)\n",
    "\n",
    "# SQLite\n",
    "dbfile = \"sqlitedb/movielens.db\"\n",
    "if not os.path.isfile(dbfile):\n",
    "    print(\"Failed to detect the database file.\")\n",
    "    \n",
    "# Establish DB Connection\n",
    "conn = sqlite3.connect(dbfile)\n",
    "if not conn:\n",
    "    print(\"Failed to establish DB connection.\")"
   ]
  },
  {
   "cell_type": "code",
   "execution_count": 147,
   "metadata": {},
   "outputs": [
    {
     "name": "stdout",
     "output_type": "stream",
     "text": [
      "\n",
      "Summary DataFrame:\n",
      "\n",
      "   MovieID  MovieName  UserID Gender  Rating\n",
      "0        1  Toy Story     139      M       2\n",
      "1        1  Toy Story     755      M       2\n",
      "2        1  Toy Story    1577      F       4\n",
      "3        1  Toy Story    1940      M       4\n",
      "4        1  Toy Story    2765      M       4\n"
     ]
    }
   ],
   "source": [
    "# Data Query\n",
    "query = \"\"\"\n",
    "    SELECT r.movie_id AS MovieID, \n",
    "        m.movie_name AS MovieName,\n",
    "        r.user_id AS UserID,\n",
    "        CASE u.user_gender\n",
    "            WHEN 0 THEN 'M'\n",
    "            ELSE 'F'\n",
    "        END Gender,\n",
    "        r.rating as Rating       \n",
    "        \n",
    "    FROM ratings AS r\n",
    "        LEFT JOIN movies as m ON m.movie_id = r.movie_id\n",
    "        LEFT JOIN users as u ON u.user_id = r.user_id\n",
    "    ORDER BY r.movie_id, r.user_id\n",
    "\"\"\"\n",
    "\n",
    "summary = pd.read_sql_query(query, conn)\n",
    "\n",
    "print(\"\\nSummary DataFrame:\\n\")\n",
    "print(summary.head(n=5))"
   ]
  },
  {
   "cell_type": "markdown",
   "metadata": {},
   "source": [
    "## 1. Rating by Average Value"
   ]
  },
  {
   "cell_type": "markdown",
   "metadata": {},
   "source": [
    "### 1.1 Movie Rating by Average"
   ]
  },
  {
   "cell_type": "code",
   "execution_count": 148,
   "metadata": {},
   "outputs": [
    {
     "name": "stdout",
     "output_type": "stream",
     "text": [
      "                                            Rating\n",
      "MovieName                                         \n",
      "Shawshank Redemption, The                   3.6000\n",
      "Star Wars: Episode IV - A New Hope          3.2667\n",
      "Blade Runner                                3.2222\n",
      "Groundhog Day                               3.1667\n",
      "Silence of the Lambs, The                   3.0625\n",
      "Babe                                        3.0000\n",
      "Saving Private Ryan                         3.0000\n",
      "Star Wars: Episode VI - Return of the Jedi  3.0000\n",
      "Schindler's List                            3.0000\n",
      "Pulp Fiction                                3.0000\n",
      "Gladiator                                   2.9167\n",
      "Raiders of the Lost Ark                     2.9091\n",
      "Shakespeare in Love                         2.9091\n",
      "Matrix, The                                 2.8333\n",
      "Sixth Sense, The                            2.8333\n",
      "Toy Story                                   2.8235\n",
      "Independence Day (ID4)                      2.7692\n",
      "Forrest Gump                                2.7000\n",
      "Stand by Me                                 2.6364\n",
      "Total Recall                                1.9167\n"
     ]
    }
   ],
   "source": [
    "# Movie Mean Ratings\n",
    "movie_ratings = summary.groupby(['MovieName'])\n",
    "movie_mean_ratings = movie_ratings[['Rating']].mean().sort_values('Rating', ascending=False)\n",
    "# Rating\n",
    "print(movie_mean_ratings)"
   ]
  },
  {
   "cell_type": "markdown",
   "metadata": {},
   "source": [
    "### 1.2 Average Rating by User Gender\n",
    "\n",
    "In this section we are going to compute **average movie rating by user gender**, and we will use pandas **groupby** option to accomplish the task. "
   ]
  },
  {
   "cell_type": "code",
   "execution_count": 149,
   "metadata": {},
   "outputs": [
    {
     "name": "stdout",
     "output_type": "stream",
     "text": [
      "                                                   Rating\n",
      "MovieName                                  Gender        \n",
      "Babe                                       F       3.4286\n",
      "                                           M       2.0000\n",
      "Blade Runner                               F       3.5000\n",
      "                                           M       3.0000\n",
      "Forrest Gump                               F       3.0000\n",
      "                                           M       2.2500\n",
      "Gladiator                                  F       3.0000\n",
      "                                           M       2.8333\n",
      "Groundhog Day                              F       2.8333\n",
      "                                           M       3.5000\n",
      "Independence Day (ID4)                     F       2.6667\n",
      "                                           M       2.8571\n",
      "Matrix, The                                F       2.4000\n",
      "                                           M       3.1429\n",
      "Pulp Fiction                               F       4.0000\n",
      "                                           M       2.6250\n",
      "Raiders of the Lost Ark                    F       2.0000\n",
      "                                           M       3.6667\n",
      "Saving Private Ryan                        F       2.7500\n",
      "                                           M       3.1429\n",
      "Schindler's List                           F       2.5000\n",
      "                                           M       3.5000\n",
      "Shakespeare in Love                        F       4.2500\n",
      "                                           M       2.1429\n",
      "Shawshank Redemption, The                  F       3.8000\n",
      "                                           M       3.4000\n",
      "Silence of the Lambs, The                  F       2.7143\n",
      "                                           M       3.3333\n",
      "Sixth Sense, The                           F       3.0000\n",
      "                                           M       2.6667\n",
      "Stand by Me                                F       2.4286\n",
      "                                           M       3.0000\n",
      "Star Wars: Episode IV - A New Hope         F       3.4286\n",
      "                                           M       3.1250\n",
      "Star Wars: Episode VI - Return of the Jedi F       3.0000\n",
      "                                           M       3.0000\n",
      "Total Recall                               F       1.7143\n",
      "                                           M       2.2000\n",
      "Toy Story                                  F       3.5714\n",
      "                                           M       2.3000\n"
     ]
    }
   ],
   "source": [
    "movie_mean_rating_by_gender = summary.groupby(['MovieName', 'Gender'])[['Rating']].mean()\n",
    "print(movie_mean_rating_by_gender)"
   ]
  },
  {
   "cell_type": "markdown",
   "metadata": {},
   "source": [
    "## 2. Top 3 Movies by Average Rating"
   ]
  },
  {
   "cell_type": "markdown",
   "metadata": {},
   "source": [
    "### 2.1. Top 3 Movies Selected by Users"
   ]
  },
  {
   "cell_type": "code",
   "execution_count": 150,
   "metadata": {},
   "outputs": [
    {
     "name": "stdout",
     "output_type": "stream",
     "text": [
      "                                    Rating\n",
      "MovieName                                 \n",
      "Shawshank Redemption, The           3.6000\n",
      "Star Wars: Episode IV - A New Hope  3.2667\n",
      "Blade Runner                        3.2222\n"
     ]
    }
   ],
   "source": [
    "# Top 3 movies\n",
    "print( movie_mean_ratings.head(n=3) )"
   ]
  },
  {
   "cell_type": "markdown",
   "metadata": {},
   "source": [
    "### 2.2. Top 3 Movies by Female Users"
   ]
  },
  {
   "cell_type": "code",
   "execution_count": 151,
   "metadata": {},
   "outputs": [
    {
     "name": "stdout",
     "output_type": "stream",
     "text": [
      "                           Rating\n",
      "MovieName                        \n",
      "Shakespeare in Love          4.25\n",
      "Pulp Fiction                 4.00\n",
      "Shawshank Redemption, The    3.80\n"
     ]
    }
   ],
   "source": [
    "female_summary = summary[summary['Gender']=='F']\n",
    "female_mean_rating = female_summary.groupby(['MovieName'])[['Rating']].mean()\n",
    "print(female_mean_rating.sort_values('Rating', ascending=False).head(n=3))"
   ]
  },
  {
   "cell_type": "markdown",
   "metadata": {},
   "source": [
    "### 2.3. Top 3 Movies by Male Users"
   ]
  },
  {
   "cell_type": "code",
   "execution_count": 152,
   "metadata": {},
   "outputs": [
    {
     "name": "stdout",
     "output_type": "stream",
     "text": [
      "                         Rating\n",
      "MovieName                      \n",
      "Raiders of the Lost Ark  3.6667\n",
      "Schindler's List         3.5000\n",
      "Groundhog Day            3.5000\n"
     ]
    }
   ],
   "source": [
    "male_summary = summary[summary['Gender']=='M']\n",
    "male_mean_rating = male_summary.groupby(['MovieName'])[['Rating']].mean()\n",
    "print(male_mean_rating.sort_values('Rating', ascending=False).head(n=3))"
   ]
  },
  {
   "cell_type": "markdown",
   "metadata": {},
   "source": [
    "... and here we got the results, that show us that average tastes of male and female audiences are quite different. Top female movie **\"Shakepeare in Love\"** got only **2.1429** within the male audience. Top male movie **\"Raiders of the Lost Ark\"** got only **2.0000** within the female audience. Next we are going to find three movies that have the biggest difference by comparing male and female ratings."
   ]
  },
  {
   "cell_type": "code",
   "execution_count": null,
   "metadata": {},
   "outputs": [],
   "source": []
  }
 ],
 "metadata": {
  "kernelspec": {
   "display_name": "Python 3",
   "language": "python",
   "name": "python3"
  },
  "language_info": {
   "codemirror_mode": {
    "name": "ipython",
    "version": 3
   },
   "file_extension": ".py",
   "mimetype": "text/x-python",
   "name": "python",
   "nbconvert_exporter": "python",
   "pygments_lexer": "ipython3",
   "version": "3.6.9"
  }
 },
 "nbformat": 4,
 "nbformat_minor": 4
}
