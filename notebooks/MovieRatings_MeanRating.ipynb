{
 "cells": [
  {
   "cell_type": "markdown",
   "metadata": {},
   "source": [
    "# Movie Rankings: Computing a Mean Rating\n",
    "\n",
    "1) First, we are going to calculate the average rating for each movie in the dataset. We are also going to compute the average movie rating by gender;\n",
    "\n",
    "2) We will display top three movies by average rating: for all users, for male users only, and for female users only.\n",
    "\n",
    "3) We will find top three movies with the greatest difference in average rating comparing the results of male and female users."
   ]
  },
  {
   "cell_type": "code",
   "execution_count": 3,
   "metadata": {},
   "outputs": [],
   "source": [
    "# Settings \n",
    "import os\n",
    "import numpy as np\n",
    "import pandas as pd\n",
    "import sqlite3\n",
    "from sqlite3 import Error as SQLiteError\n",
    "\n",
    "# SQLite\n",
    "dbfile = \"sqlitedb/movielens.db\"\n",
    "if not os.path.isfile(dbfile):\n",
    "    print(\"Failed to detect the database file.\")\n",
    "    \n",
    "# Establish DB Connection\n",
    "conn = sqlite3.connect(dbfile)\n",
    "if not conn:\n",
    "    print(\"Failed to establish DB connection.\")"
   ]
  },
  {
   "cell_type": "code",
   "execution_count": 67,
   "metadata": {},
   "outputs": [
    {
     "name": "stdout",
     "output_type": "stream",
     "text": [
      "\n",
      "Summary DataFrame:\n",
      "\n",
      "   MovieID  MovieName  UserID  Gender  Rating\n",
      "0        1  Toy Story     139       0       2\n",
      "1        1  Toy Story     755       0       2\n",
      "2        1  Toy Story    1577       1       4\n",
      "3        1  Toy Story    1940       0       4\n",
      "4        1  Toy Story    2765       0       4\n",
      "5        1  Toy Story    3048       1       4\n",
      "6        1  Toy Story    3118       1       3\n",
      "7        1  Toy Story    3823       1       3\n",
      "8        1  Toy Story    4117       1       4\n",
      "9        1  Toy Story    4388       0       2\n"
     ]
    }
   ],
   "source": [
    "# Data Query\n",
    "query = \"\"\"\n",
    "    SELECT r.movie_id AS MovieID, \n",
    "        m.movie_name AS MovieName,\n",
    "        r.user_id AS UserID,\n",
    "        u.user_gender AS Gender,\n",
    "        r.rating as Rating       \n",
    "        \n",
    "    FROM ratings AS r\n",
    "        LEFT JOIN movies as m ON m.movie_id = r.movie_id\n",
    "        LEFT JOIN users as u ON u.user_id = r.user_id\n",
    "    ORDER BY r.movie_id, r.user_id\n",
    "\"\"\"\n",
    "\n",
    "summary = pd.read_sql_query(query, conn)\n",
    "\n",
    "print(\"\\nSummary DataFrame:\\n\")\n",
    "print(summary.head(n=10))"
   ]
  },
  {
   "cell_type": "code",
   "execution_count": null,
   "metadata": {},
   "outputs": [],
   "source": []
  }
 ],
 "metadata": {
  "kernelspec": {
   "display_name": "Python 3",
   "language": "python",
   "name": "python3"
  },
  "language_info": {
   "codemirror_mode": {
    "name": "ipython",
    "version": 3
   },
   "file_extension": ".py",
   "mimetype": "text/x-python",
   "name": "python",
   "nbconvert_exporter": "python",
   "pygments_lexer": "ipython3",
   "version": "3.6.9"
  }
 },
 "nbformat": 4,
 "nbformat_minor": 4
}
