{
 "cells": [
  {
   "cell_type": "markdown",
   "metadata": {},
   "source": [
    "# Movie Rankings: Computing a Mean Rating\n",
    "\n",
    "1) First, we are going to calculate the average rating for each movie in the dataset. We are also going to compute the average movie rating by gender;\n",
    "\n",
    "2) We will display top three movies by average rating: for all users, for male users only, and for female users only.\n",
    "\n",
    "3) We will find top three movies with the greatest difference in average rating comparing the results of male and female users.\n",
    "\n",
    "4) Finally we will calculate how men and women rate movies on average.\n",
    "\n",
    "Before proceeding with the analysis I would like to provide a brief description of the rating system.\n",
    "The lowest rating value that the user can assign is 1 star and the highest is 5 stars.\n",
    "\n",
    "**Interpretation of the rating values:**\n",
    "- 1 star: very bad\n",
    "- 2 stars: bad\n",
    "- 3 stars: good\n",
    "- 4 stars: very good\n",
    "- 5 stars: excellent\n",
    "\n"
   ]
  },
  {
   "cell_type": "code",
   "execution_count": 1,
   "metadata": {},
   "outputs": [],
   "source": [
    "# Settings \n",
    "import os\n",
    "import numpy as np\n",
    "import pandas as pd\n",
    "import sqlite3\n",
    "from sqlite3 import Error as SQLiteError\n",
    "\n",
    "# Pandas\n",
    "pd.set_option('precision', 4)\n",
    "\n",
    "# SQLite\n",
    "dbfile = \"sqlitedb/movielens.db\"\n",
    "if not os.path.isfile(dbfile):\n",
    "    print(\"Failed to detect the database file.\")\n",
    "    \n",
    "# Establish DB Connection\n",
    "conn = sqlite3.connect(dbfile)\n",
    "if not conn:\n",
    "    print(\"Failed to establish DB connection.\")"
   ]
  },
  {
   "cell_type": "code",
   "execution_count": 2,
   "metadata": {},
   "outputs": [
    {
     "name": "stdout",
     "output_type": "stream",
     "text": [
      "\n",
      "Summary DataFrame:\n",
      "\n",
      "   MovieID  MovieName  UserID Gender  Rating\n",
      "0        1  Toy Story     139      M       2\n",
      "1        1  Toy Story     755      M       2\n",
      "2        1  Toy Story    1577      F       4\n",
      "3        1  Toy Story    1940      M       4\n",
      "4        1  Toy Story    2765      M       4\n"
     ]
    }
   ],
   "source": [
    "# Data Query\n",
    "query = \"\"\"\n",
    "    SELECT r.movie_id AS MovieID, \n",
    "        m.movie_name AS MovieName,\n",
    "        r.user_id AS UserID,\n",
    "        CASE u.user_gender\n",
    "            WHEN 0 THEN 'M'\n",
    "            ELSE 'F'\n",
    "        END Gender,\n",
    "        r.rating as Rating       \n",
    "        \n",
    "    FROM ratings AS r\n",
    "        LEFT JOIN movies as m ON m.movie_id = r.movie_id\n",
    "        LEFT JOIN users as u ON u.user_id = r.user_id\n",
    "    ORDER BY r.movie_id, r.user_id\n",
    "\"\"\"\n",
    "\n",
    "summary = pd.read_sql_query(query, conn)\n",
    "\n",
    "print(\"\\nSummary DataFrame:\\n\")\n",
    "print(summary.head(n=5))"
   ]
  },
  {
   "cell_type": "markdown",
   "metadata": {},
   "source": [
    "## 1. Rating by Average Value"
   ]
  },
  {
   "cell_type": "markdown",
   "metadata": {},
   "source": [
    "### 1.1 Movie Rating by Average"
   ]
  },
  {
   "cell_type": "code",
   "execution_count": 3,
   "metadata": {},
   "outputs": [
    {
     "name": "stdout",
     "output_type": "stream",
     "text": [
      "                                            Rating\n",
      "MovieName                                         \n",
      "Shawshank Redemption, The                   3.6000\n",
      "Star Wars: Episode IV - A New Hope          3.2667\n",
      "Blade Runner                                3.2222\n",
      "Groundhog Day                               3.1667\n",
      "Silence of the Lambs, The                   3.0625\n",
      "Babe                                        3.0000\n",
      "Saving Private Ryan                         3.0000\n",
      "Star Wars: Episode VI - Return of the Jedi  3.0000\n",
      "Schindler's List                            3.0000\n",
      "Pulp Fiction                                3.0000\n",
      "Gladiator                                   2.9167\n",
      "Raiders of the Lost Ark                     2.9091\n",
      "Shakespeare in Love                         2.9091\n",
      "Matrix, The                                 2.8333\n",
      "Sixth Sense, The                            2.8333\n",
      "Toy Story                                   2.8235\n",
      "Independence Day (ID4)                      2.7692\n",
      "Forrest Gump                                2.7000\n",
      "Stand by Me                                 2.6364\n",
      "Total Recall                                1.9167\n"
     ]
    }
   ],
   "source": [
    "# Movie Mean Ratings\n",
    "movie_ratings = summary.groupby(['MovieName'])\n",
    "movie_mean_ratings = movie_ratings[['Rating']].mean().sort_values('Rating', ascending=False)\n",
    "# Rating\n",
    "print(movie_mean_ratings)"
   ]
  },
  {
   "cell_type": "markdown",
   "metadata": {},
   "source": [
    "### 1.2 Average Rating by User Gender\n",
    "\n",
    "In this section we are going to compute **average movie rating by user gender**, and we will use pandas **groupby** option to accomplish the task. "
   ]
  },
  {
   "cell_type": "code",
   "execution_count": 4,
   "metadata": {},
   "outputs": [
    {
     "name": "stdout",
     "output_type": "stream",
     "text": [
      "                                                   Rating\n",
      "MovieName                                  Gender        \n",
      "Babe                                       F       3.4286\n",
      "                                           M       2.0000\n",
      "Blade Runner                               F       3.5000\n",
      "                                           M       3.0000\n",
      "Forrest Gump                               F       3.0000\n",
      "                                           M       2.2500\n",
      "Gladiator                                  F       3.0000\n",
      "                                           M       2.8333\n",
      "Groundhog Day                              F       2.8333\n",
      "                                           M       3.5000\n",
      "Independence Day (ID4)                     F       2.6667\n",
      "                                           M       2.8571\n",
      "Matrix, The                                F       2.4000\n",
      "                                           M       3.1429\n",
      "Pulp Fiction                               F       4.0000\n",
      "                                           M       2.6250\n",
      "Raiders of the Lost Ark                    F       2.0000\n",
      "                                           M       3.6667\n",
      "Saving Private Ryan                        F       2.7500\n",
      "                                           M       3.1429\n",
      "Schindler's List                           F       2.5000\n",
      "                                           M       3.5000\n",
      "Shakespeare in Love                        F       4.2500\n",
      "                                           M       2.1429\n",
      "Shawshank Redemption, The                  F       3.8000\n",
      "                                           M       3.4000\n",
      "Silence of the Lambs, The                  F       2.7143\n",
      "                                           M       3.3333\n",
      "Sixth Sense, The                           F       3.0000\n",
      "                                           M       2.6667\n",
      "Stand by Me                                F       2.4286\n",
      "                                           M       3.0000\n",
      "Star Wars: Episode IV - A New Hope         F       3.4286\n",
      "                                           M       3.1250\n",
      "Star Wars: Episode VI - Return of the Jedi F       3.0000\n",
      "                                           M       3.0000\n",
      "Total Recall                               F       1.7143\n",
      "                                           M       2.2000\n",
      "Toy Story                                  F       3.5714\n",
      "                                           M       2.3000\n"
     ]
    }
   ],
   "source": [
    "movie_mean_rating_by_gender = summary.groupby(['MovieName', 'Gender'])[['Rating']].mean()\n",
    "print(movie_mean_rating_by_gender)"
   ]
  },
  {
   "cell_type": "markdown",
   "metadata": {},
   "source": [
    "## 2. Top 3 Movies by Average Rating"
   ]
  },
  {
   "cell_type": "markdown",
   "metadata": {},
   "source": [
    "### 2.1. Top 3 Movies Selected by Users"
   ]
  },
  {
   "cell_type": "code",
   "execution_count": 5,
   "metadata": {},
   "outputs": [
    {
     "name": "stdout",
     "output_type": "stream",
     "text": [
      "                                    Rating\n",
      "MovieName                                 \n",
      "Shawshank Redemption, The           3.6000\n",
      "Star Wars: Episode IV - A New Hope  3.2667\n",
      "Blade Runner                        3.2222\n"
     ]
    }
   ],
   "source": [
    "# Top 3 movies\n",
    "print( movie_mean_ratings.head(n=3) )"
   ]
  },
  {
   "cell_type": "markdown",
   "metadata": {},
   "source": [
    "### 2.2. Top 3 Movies by Female Users"
   ]
  },
  {
   "cell_type": "code",
   "execution_count": 6,
   "metadata": {},
   "outputs": [
    {
     "name": "stdout",
     "output_type": "stream",
     "text": [
      "                           Rating\n",
      "MovieName                        \n",
      "Shakespeare in Love          4.25\n",
      "Pulp Fiction                 4.00\n",
      "Shawshank Redemption, The    3.80\n"
     ]
    }
   ],
   "source": [
    "female_summary = summary[summary['Gender']=='F']\n",
    "female_mean_ratings = female_summary.groupby(['MovieName'])[['Rating']].mean()\n",
    "print(female_mean_ratings.sort_values('Rating', ascending=False).head(n=3))"
   ]
  },
  {
   "cell_type": "markdown",
   "metadata": {},
   "source": [
    "### 2.3. Top 3 Movies by Male Users"
   ]
  },
  {
   "cell_type": "code",
   "execution_count": 7,
   "metadata": {},
   "outputs": [
    {
     "name": "stdout",
     "output_type": "stream",
     "text": [
      "                         Rating\n",
      "MovieName                      \n",
      "Raiders of the Lost Ark  3.6667\n",
      "Schindler's List         3.5000\n",
      "Groundhog Day            3.5000\n"
     ]
    }
   ],
   "source": [
    "male_summary = summary[summary['Gender']=='M']\n",
    "male_mean_ratings = male_summary.groupby(['MovieName'])[['Rating']].mean()\n",
    "print(male_mean_ratings.sort_values('Rating', ascending=False).head(n=3))"
   ]
  },
  {
   "cell_type": "markdown",
   "metadata": {},
   "source": [
    "... and here we got the results, that show us that average tastes of male and female audiences are quite different. Top female movie **\"Shakepeare in Love\"** got only **2.1429** within the male audience. Top male movie **\"Raiders of the Lost Ark\"** got only **2.0000** within the female audience. Next we are going to find three movies that have the biggest difference by comparing male and female ratings."
   ]
  },
  {
   "cell_type": "markdown",
   "metadata": {},
   "source": [
    "## 3. Movies with the Highest Rating Difference in Male and Female Audiences"
   ]
  },
  {
   "cell_type": "markdown",
   "metadata": {},
   "source": [
    "Before moving forwards with the assignment we will construct a summary dataset for the mean ratings.\n",
    "The dataset is going to contain the following data:\n",
    "\n",
    "1. MovieName - movie name\n",
    "2. Rating - movie average rating\n",
    "3. FRating - movie average rating by female audience\n",
    "4. MRating - movie average rating by male audience\n",
    "5. DELTA - DELTA = FRating - MRating\n"
   ]
  },
  {
   "cell_type": "code",
   "execution_count": 8,
   "metadata": {},
   "outputs": [
    {
     "name": "stdout",
     "output_type": "stream",
     "text": [
      "                                            Rating  FRating  MRating   DELTA\n",
      "MovieName                                                                   \n",
      "Shawshank Redemption, The                   3.6000   3.8000   3.4000  0.4000\n",
      "Star Wars: Episode IV - A New Hope          3.2667   3.4286   3.1250  0.3036\n",
      "Blade Runner                                3.2222   3.5000   3.0000  0.5000\n",
      "Groundhog Day                               3.1667   2.8333   3.5000 -0.6667\n",
      "Silence of the Lambs, The                   3.0625   2.7143   3.3333 -0.6190\n",
      "Babe                                        3.0000   3.4286   2.0000  1.4286\n",
      "Saving Private Ryan                         3.0000   2.7500   3.1429 -0.3929\n",
      "Star Wars: Episode VI - Return of the Jedi  3.0000   3.0000   3.0000  0.0000\n",
      "Schindler's List                            3.0000   2.5000   3.5000 -1.0000\n",
      "Pulp Fiction                                3.0000   4.0000   2.6250  1.3750\n",
      "Gladiator                                   2.9167   3.0000   2.8333  0.1667\n",
      "Raiders of the Lost Ark                     2.9091   2.0000   3.6667 -1.6667\n",
      "Shakespeare in Love                         2.9091   4.2500   2.1429  2.1071\n",
      "Matrix, The                                 2.8333   2.4000   3.1429 -0.7429\n",
      "Sixth Sense, The                            2.8333   3.0000   2.6667  0.3333\n",
      "Toy Story                                   2.8235   3.5714   2.3000  1.2714\n",
      "Independence Day (ID4)                      2.7692   2.6667   2.8571 -0.1905\n",
      "Forrest Gump                                2.7000   3.0000   2.2500  0.7500\n",
      "Stand by Me                                 2.6364   2.4286   3.0000 -0.5714\n",
      "Total Recall                                1.9167   1.7143   2.2000 -0.4857\n"
     ]
    }
   ],
   "source": [
    "# Average rating data\n",
    "mean_rating_summary = pd.merge(movie_mean_ratings, female_mean_ratings, \n",
    "                              on='MovieName', how='inner')\n",
    "mean_rating_summary = pd.merge(mean_rating_summary, male_mean_ratings, on='MovieName', how='inner')\n",
    "mean_rating_summary.columns = ['Rating', 'FRating', 'MRating']\n",
    "\n",
    "# Let's add a DELTA column: DELTA = FRating - MRating\n",
    "\n",
    "mean_rating_summary['DELTA'] = mean_rating_summary['FRating'] - mean_rating_summary['MRating']\n",
    "\n",
    "print(mean_rating_summary)"
   ]
  },
  {
   "cell_type": "markdown",
   "metadata": {},
   "source": [
    "Now it is going to be easy to answer the question about taste difference comparing male and female audiences."
   ]
  },
  {
   "cell_type": "markdown",
   "metadata": {},
   "source": [
    "### 3.1. Movies Loved by Women and Hated by Men"
   ]
  },
  {
   "cell_type": "code",
   "execution_count": 9,
   "metadata": {},
   "outputs": [
    {
     "name": "stdout",
     "output_type": "stream",
     "text": [
      "                     Rating  FRating  MRating   DELTA\n",
      "MovieName                                            \n",
      "Shakespeare in Love  2.9091   4.2500   2.1429  2.1071\n",
      "Babe                 3.0000   3.4286   2.0000  1.4286\n",
      "Pulp Fiction         3.0000   4.0000   2.6250  1.3750\n"
     ]
    }
   ],
   "source": [
    "print(mean_rating_summary.sort_values('DELTA', ascending=False).head(n=3))"
   ]
  },
  {
   "cell_type": "markdown",
   "metadata": {},
   "source": [
    "### 3.2. Movies Loved by Men and Hated by Women"
   ]
  },
  {
   "cell_type": "code",
   "execution_count": 10,
   "metadata": {},
   "outputs": [
    {
     "name": "stdout",
     "output_type": "stream",
     "text": [
      "                         Rating  FRating  MRating   DELTA\n",
      "MovieName                                                \n",
      "Raiders of the Lost Ark  2.9091      2.0   3.6667 -1.6667\n",
      "Schindler's List         3.0000      2.5   3.5000 -1.0000\n",
      "Matrix, The              2.8333      2.4   3.1429 -0.7429\n"
     ]
    }
   ],
   "source": [
    "print(mean_rating_summary.sort_values('DELTA', ascending=True).head(n=3))"
   ]
  },
  {
   "cell_type": "markdown",
   "metadata": {},
   "source": [
    "## 4. Overall Movies Average Rating\n",
    "\n",
    "In this section we will calculate the average rating for all rated movies."
   ]
  },
  {
   "cell_type": "markdown",
   "metadata": {},
   "source": [
    "### 4.1. Overall Average Rating"
   ]
  },
  {
   "cell_type": "code",
   "execution_count": 11,
   "metadata": {},
   "outputs": [
    {
     "name": "stdout",
     "output_type": "stream",
     "text": [
      "Average Rating:  2.9253\n"
     ]
    }
   ],
   "source": [
    "# Overall Average Rating\n",
    "overall_average_rating = summary['Rating'].mean()\n",
    "print(\"Average Rating: \", round(overall_average_rating, 4))"
   ]
  },
  {
   "cell_type": "code",
   "execution_count": 12,
   "metadata": {},
   "outputs": [
    {
     "name": "stdout",
     "output_type": "stream",
     "text": [
      "Total Number of Ratings: 241\n"
     ]
    }
   ],
   "source": [
    "# Total Ratings\n",
    "nRatings = summary['Rating'].count()\n",
    "print(\"Total Number of Ratings: {0}\".format(nRatings))"
   ]
  },
  {
   "cell_type": "markdown",
   "metadata": {},
   "source": [
    "### 4.2. Female Overall Average Rating"
   ]
  },
  {
   "cell_type": "code",
   "execution_count": 14,
   "metadata": {},
   "outputs": [
    {
     "name": "stdout",
     "output_type": "stream",
     "text": [
      "Average Rating by Females' Audience:  2.9474\n"
     ]
    }
   ],
   "source": [
    "# Female Overall Average Rating\n",
    "female_overall_average_rating = female_summary['Rating'].mean()\n",
    "print(\"Average Rating by Females' Audience: \", round(female_overall_average_rating, 4))"
   ]
  },
  {
   "cell_type": "code",
   "execution_count": 15,
   "metadata": {},
   "outputs": [
    {
     "name": "stdout",
     "output_type": "stream",
     "text": [
      "Total Number of Ratings Provided by Females: 114\n"
     ]
    }
   ],
   "source": [
    "# Total Female Ratings\n",
    "nFemaleRatings = female_summary['Rating'].count()\n",
    "print(\"Total Number of Ratings Provided by Females: {0}\".format(nFemaleRatings))"
   ]
  },
  {
   "cell_type": "markdown",
   "metadata": {},
   "source": [
    "### 4.3. Male Overall Average Rating"
   ]
  },
  {
   "cell_type": "code",
   "execution_count": 16,
   "metadata": {},
   "outputs": [
    {
     "name": "stdout",
     "output_type": "stream",
     "text": [
      "Average Rating by Males' Audience:  2.9055\n"
     ]
    }
   ],
   "source": [
    "# Male Overall Average Rating\n",
    "male_overall_average_rating = male_summary['Rating'].mean()\n",
    "print(\"Average Rating by Males' Audience: \", round(male_overall_average_rating, 4))"
   ]
  },
  {
   "cell_type": "code",
   "execution_count": 17,
   "metadata": {},
   "outputs": [
    {
     "name": "stdout",
     "output_type": "stream",
     "text": [
      "Total Number of Ratings Provided by Males: 127\n"
     ]
    }
   ],
   "source": [
    "# Total Male Ratings\n",
    "nMaleRatings = male_summary['Rating'].count()\n",
    "print(\"Total Number of Ratings Provided by Males: {0}\".format(nMaleRatings))"
   ]
  },
  {
   "cell_type": "markdown",
   "metadata": {},
   "source": [
    "## 5. Summary"
   ]
  },
  {
   "cell_type": "markdown",
   "metadata": {},
   "source": [
    "Ok! Lets summarize the results!\n",
    "\n",
    "The top three movies selected by the users are\n",
    "\n",
    "1. The Shawshank Redemption, with the rating of **3.6000** (Females: 3.8000, Males: 3.4000) \n",
    "2. Star Wars: Episode IV - A New Hope, with the rating of **3.2667** (Females: 3.4286, Males: 3.1250) \n",
    "3. Blade Runner, with the rating of **3.2222** (Females: 3.5000, Males: 3.0000) \n",
    "\n",
    "The movies in Top 3 have good ratings in both male and female audiences. Males' ratings though are slightly lower than females' ratings, but it seems to be a general trend for our dataset: Males on average tend to give lower ratings than females.\n",
    "\n",
    "If we have a look at Top 3 movies selected by male and female audiences, we will notice that the preferences of males and females differ significantly. For example, the most loved female movie \"Shakespeare in Love\" got only 2.14 from the male voters, and this is according to our rating system can be interpreted as \"pretty bad movie\". On the opposite side is the movie \"Raiders of the Lost Ark\", this movie got the highest ranking from males (**3.6667**), and women didn't like this movie at all, and gave it only **2.0000**.\n",
    "\n",
    "This is something that needs to be taken into consideration when planning a movie date!"
   ]
  },
  {
   "cell_type": "code",
   "execution_count": null,
   "metadata": {},
   "outputs": [],
   "source": []
  }
 ],
 "metadata": {
  "kernelspec": {
   "display_name": "Python 3",
   "language": "python",
   "name": "python3"
  },
  "language_info": {
   "codemirror_mode": {
    "name": "ipython",
    "version": 3
   },
   "file_extension": ".py",
   "mimetype": "text/x-python",
   "name": "python",
   "nbconvert_exporter": "python",
   "pygments_lexer": "ipython3",
   "version": "3.6.9"
  }
 },
 "nbformat": 4,
 "nbformat_minor": 4
}
