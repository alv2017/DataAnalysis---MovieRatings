{
 "cells": [
  {
   "cell_type": "markdown",
   "metadata": {},
   "source": [
    "# Movie Rankings: Computing a Mean Rating\n",
    "\n",
    "1) First, we are going to calculate the average rating for each movie in the dataset. We are also going to compute the average movie rating by gender;\n",
    "\n",
    "2) We will display top three movies by average rating: for all users, for male users only, and for female users only.\n",
    "\n",
    "3) We will find top three movies with the greatest difference in average rating comparing the results of male and female users.\n"
   ]
  }
 ],
 "metadata": {
  "kernelspec": {
   "display_name": "Python 3",
   "language": "python",
   "name": "python3"
  },
  "language_info": {
   "codemirror_mode": {
    "name": "ipython",
    "version": 3
   },
   "file_extension": ".py",
   "mimetype": "text/x-python",
   "name": "python",
   "nbconvert_exporter": "python",
   "pygments_lexer": "ipython3",
   "version": "3.6.9"
  }
 },
 "nbformat": 4,
 "nbformat_minor": 4
}
